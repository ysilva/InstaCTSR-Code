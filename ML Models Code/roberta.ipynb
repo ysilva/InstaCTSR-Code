{
 "cells": [
  {
   "cell_type": "code",
   "execution_count": null,
   "metadata": {},
   "outputs": [],
   "source": [
    "import pandas as pd\n",
    "import numpy as np\n",
    "import torch\n",
    "import torch.nn as nn\n",
    "from torch.utils.data import Dataset, DataLoader\n",
    "from transformers import AutoTokenizer, AutoModelForSequenceClassification, Trainer, TrainingArguments\n",
    "from transformers import RobertaTokenizer, RobertaForSequenceClassification\n",
    "from sklearn.model_selection import train_test_split\n",
    "from sklearn.metrics import (\n",
    "    accuracy_score, precision_recall_fscore_support, classification_report,\n",
    "    balanced_accuracy_score, roc_auc_score, confusion_matrix, precision_score,\n",
    "    recall_score, f1_score\n",
    ")\n",
    "import matplotlib.pyplot as plt\n",
    "import seaborn as sns\n",
    "import json\n",
    "import os\n",
    "from datetime import datetime\n",
    "import warnings\n",
    "warnings.filterwarnings('ignore')\n",
    "\n",
    "device = torch.device('cuda' if torch.cuda.is_available() else 'cpu')\n",
    "results_dir = 'results/roberta'\n",
    "os.makedirs(results_dir, exist_ok=True)\n",
    "device"
   ]
  },
  {
   "cell_type": "code",
   "execution_count": null,
   "metadata": {},
   "outputs": [],
   "source": [
    "fold_num = 2\n",
    "train_data = pd.read_csv(f'data_splits/splits/fold_{fold_num}_train.csv')\n",
    "test_data = pd.read_csv(f'data_splits/splits/fold_{fold_num}_test.csv')\n",
    "\n",
    "train_data = train_data.replace({'f': 0, 't': 1})\n",
    "test_data = test_data.replace({'f': 0, 't': 1})\n",
    "\n",
    "data = pd.concat([train_data, test_data], ignore_index=True)\n",
    "train_idx = pd.Series([True] * len(train_data) + [False] * len(test_data))\n",
    "test_idx = pd.Series([False] * len(train_data) + [True] * len(test_data))\n",
    "\n",
    "print(f\"Using fold {fold_num} - Train: {len(train_data)}, Test: {len(test_data)}, Total: {len(data)}\")\n",
    "data.shape"
   ]
  },
  {
   "cell_type": "code",
   "execution_count": null,
   "metadata": {},
   "outputs": [],
   "source": [
    "def get_target(data):\n",
    "    return data['c_cyberbullying_majority'].astype(int)\n",
    "\n",
    "def create_severity_labels(data):\n",
    "    severity_cols = ['c_severity_mild_count', 'c_severity_moderate_count', 'c_severity_severe_count']\n",
    "    severity_counts = data[severity_cols].fillna(0)\n",
    "    cb_mask = data['c_cyberbullying_majority'] == 1\n",
    "    severity_labels = np.zeros(len(data))\n",
    "    \n",
    "    for idx in data.index:\n",
    "        if not cb_mask.iloc[idx]:\n",
    "            severity_labels[idx] = 0\n",
    "        else:\n",
    "            row = severity_counts.iloc[idx]\n",
    "            if row.sum() == 0:\n",
    "                severity_labels[idx] = 0\n",
    "            else:\n",
    "                max_idx = row.argmax()\n",
    "                severity_labels[idx] = max_idx + 1\n",
    "    return severity_labels.astype(int)\n",
    "\n",
    "def create_topic_labels(data):\n",
    "    topic_cols = ['c_topic_disability_majority', 'c_topic_gender_majority', 'c_topic_intellectual_majority',\n",
    "                  'c_topic_other_majority', 'c_topic_physical_majority', 'c_topic_political_majority',\n",
    "                  'c_topic_race_majority', 'c_topic_religious_majority', 'c_topic_sexual_majority',\n",
    "                  'c_topic_social_status_majority']\n",
    "    topic_data = data[topic_cols].fillna(0).astype(int)\n",
    "    cb_mask = data['c_cyberbullying_majority'] == 1\n",
    "    topic_labels = topic_data.copy()\n",
    "    topic_labels[~cb_mask] = 0\n",
    "    return topic_labels, topic_cols\n",
    "\n",
    "def create_role_labels(data):\n",
    "    cb_roles = ['c_role_bully_count', 'c_role_cb__bully_assistant_count', \n",
    "                'c_role_cb_aggressive_victim_role_count', 'c_role_cb_aggressive_defender_count']\n",
    "    noncb_roles = ['c_role_noncb_passive_bystander_count', 'c_role_noncb_non_aggressive_victim_count',\n",
    "                   'c_role_noncb_non_aggressive_defender_count']\n",
    "    role_labels = []\n",
    "    cb_mask = data['c_cyberbullying_majority'] == 1\n",
    "    \n",
    "    for idx in data.index:\n",
    "        if cb_mask.iloc[idx]:\n",
    "            role_counts = data[cb_roles].iloc[idx]\n",
    "            if role_counts.sum() > 0:\n",
    "                max_role = role_counts.argmax()\n",
    "                role_labels.append(max_role)\n",
    "            else:\n",
    "                role_labels.append(0)\n",
    "        else:\n",
    "            role_counts = data[noncb_roles].iloc[idx]\n",
    "            if role_counts.sum() > 0:\n",
    "                max_role = role_counts.argmax()\n",
    "                role_labels.append(max_role + 4)\n",
    "            else:\n",
    "                role_labels.append(4)\n",
    "    return np.array(role_labels)\n",
    "\n",
    "def save_metrics(y_true, y_pred, y_proba, class_names, task_name, model_name='roberta'):\n",
    "    timestamp = datetime.now().strftime('%Y%m%d_%H%M%S')\n",
    "    \n",
    "    metrics = {}\n",
    "    \n",
    "    metrics['accuracy'] = accuracy_score(y_true, y_pred)\n",
    "    metrics['balanced_accuracy'] = balanced_accuracy_score(y_true, y_pred)\n",
    "    \n",
    "    metrics['precision_macro'] = precision_score(y_true, y_pred, average='macro', zero_division=0)\n",
    "    metrics['recall_macro'] = recall_score(y_true, y_pred, average='macro', zero_division=0)\n",
    "    metrics['f1_macro'] = f1_score(y_true, y_pred, average='macro', zero_division=0)\n",
    "    \n",
    "    metrics['precision_weighted'] = precision_score(y_true, y_pred, average='weighted', zero_division=0)\n",
    "    metrics['recall_weighted'] = recall_score(y_true, y_pred, average='weighted', zero_division=0)\n",
    "    metrics['f1_weighted'] = f1_score(y_true, y_pred, average='weighted', zero_division=0)\n",
    "    \n",
    "    metrics['precision_per_class'] = precision_score(y_true, y_pred, average=None, zero_division=0).tolist()\n",
    "    metrics['recall_per_class'] = recall_score(y_true, y_pred, average=None, zero_division=0).tolist()\n",
    "    metrics['f1_per_class'] = f1_score(y_true, y_pred, average=None, zero_division=0).tolist()\n",
    "    \n",
    "    if len(np.unique(y_true)) == 2:\n",
    "        if y_proba is not None and y_proba.shape[1] >= 2:\n",
    "            metrics['auroc'] = roc_auc_score(y_true, y_proba[:, 1])\n",
    "        else:\n",
    "            metrics['auroc'] = None\n",
    "    else:\n",
    "        if y_proba is not None:\n",
    "            try:\n",
    "                metrics['auroc_macro'] = roc_auc_score(y_true, y_proba, multi_class='ovr', average='macro')\n",
    "                metrics['auroc_weighted'] = roc_auc_score(y_true, y_proba, multi_class='ovr', average='weighted')\n",
    "            except:\n",
    "                metrics['auroc_macro'] = None\n",
    "                metrics['auroc_weighted'] = None\n",
    "        else:\n",
    "            metrics['auroc_macro'] = None\n",
    "            metrics['auroc_weighted'] = None\n",
    "    \n",
    "    cm = confusion_matrix(y_true, y_pred)\n",
    "    \n",
    "    plt.figure(figsize=(10, 8))\n",
    "    sns.heatmap(cm, annot=True, fmt='d', cmap='Blues', \n",
    "                xticklabels=class_names, yticklabels=class_names)\n",
    "    plt.title(f'{model_name.upper()} - {task_name} - Confusion Matrix')\n",
    "    plt.ylabel('True Label')\n",
    "    plt.xlabel('Predicted Label')\n",
    "    plt.tight_layout()\n",
    "    plt.savefig(f'{results_dir}/{task_name}_confusion_matrix_{timestamp}_fold_{fold_num}.png', dpi=300, bbox_inches='tight')\n",
    "    plt.close()\n",
    "    \n",
    "    with open(f'{results_dir}/{task_name}_metrics_{timestamp}_fold_{fold_num}.json', 'w') as f:\n",
    "        json.dump(metrics, f, indent=2)\n",
    "    \n",
    "    np.save(f'{results_dir}/{task_name}_confusion_matrix_{timestamp}_fold_{fold_num}.npy', cm)\n",
    "    \n",
    "    print(f\"Saved metrics for {task_name} to {results_dir}\")\n",
    "    \n",
    "    return metrics"
   ]
  },
  {
   "cell_type": "code",
   "execution_count": null,
   "metadata": {},
   "outputs": [],
   "source": [
    "target = get_target(data)\n",
    "severity_labels = create_severity_labels(data)\n",
    "topic_labels, topic_cols = create_topic_labels(data)\n",
    "role_labels = create_role_labels(data)\n",
    "\n",
    "text_data = data['c_comment_content'].fillna('').astype(str)\n",
    "\n",
    "f\"Data: {data.shape}, Train: {train_idx.sum()}, Test: {test_idx.sum()}\""
   ]
  },
  {
   "cell_type": "code",
   "execution_count": null,
   "metadata": {},
   "outputs": [],
   "source": [
    "class TextDataset(Dataset):\n",
    "    def __init__(self, texts, labels, tokenizer, max_length=512):\n",
    "        self.texts = texts\n",
    "        self.labels = labels\n",
    "        self.tokenizer = tokenizer\n",
    "        self.max_length = max_length\n",
    "    \n",
    "    def __len__(self):\n",
    "        return len(self.texts)\n",
    "    \n",
    "    def __getitem__(self, idx):\n",
    "        text = str(self.texts.iloc[idx]) if hasattr(self.texts, 'iloc') else str(self.texts[idx])\n",
    "        \n",
    "        encoding = self.tokenizer(\n",
    "            text,\n",
    "            truncation=True,\n",
    "            padding='max_length',\n",
    "            max_length=self.max_length,\n",
    "            return_tensors='pt'\n",
    "        )\n",
    "        \n",
    "        return {\n",
    "            'input_ids': encoding['input_ids'].flatten(),\n",
    "            'attention_mask': encoding['attention_mask'].flatten(),\n",
    "            'labels': torch.tensor(self.labels[idx], dtype=torch.long)\n",
    "        }"
   ]
  },
  {
   "cell_type": "code",
   "execution_count": null,
   "metadata": {},
   "outputs": [],
   "source": [
    "def freeze_base_model(model):\n",
    "    for name, param in model.named_parameters():\n",
    "        if 'classifier' not in name and 'pooler' not in name:\n",
    "            param.requires_grad = False\n",
    "    return model\n",
    "\n",
    "def train_transformer_model(model_name, tokenizer_class, model_class, train_texts, train_labels, test_texts, test_labels, num_labels, task_name):\n",
    "    tokenizer = tokenizer_class.from_pretrained(model_name)\n",
    "    model = model_class.from_pretrained(\n",
    "        model_name, \n",
    "        num_labels=num_labels,\n",
    "        ignore_mismatched_sizes=True,\n",
    "        problem_type=\"single_label_classification\",\n",
    "        classifier_dropout=0.1\n",
    "    ).to(device)\n",
    "    \n",
    "    model = freeze_base_model(model)\n",
    "    \n",
    "    train_dataset = TextDataset(train_texts, train_labels, tokenizer)\n",
    "    test_dataset = TextDataset(test_texts, test_labels, tokenizer)\n",
    "    \n",
    "    training_args = TrainingArguments(\n",
    "        output_dir='./results_temp',\n",
    "        num_train_epochs=20,\n",
    "        per_device_train_batch_size=8,\n",
    "        per_device_eval_batch_size=8,\n",
    "        warmup_steps=500,\n",
    "        weight_decay=0.01,\n",
    "        learning_rate=5e-4,\n",
    "        logging_dir='./logs',\n",
    "        logging_steps=10,\n",
    "        eval_strategy=\"epoch\",\n",
    "        save_strategy=\"epoch\",\n",
    "        load_best_model_at_end=True,\n",
    "        metric_for_best_model=\"eval_loss\",\n",
    "        greater_is_better=False,\n",
    "        report_to=None\n",
    "    )\n",
    "    \n",
    "    trainer = Trainer(\n",
    "        model=model,\n",
    "        args=training_args,\n",
    "        train_dataset=train_dataset,\n",
    "        eval_dataset=test_dataset,\n",
    "    )\n",
    "    \n",
    "    trainer.train()\n",
    "    \n",
    "    predictions = trainer.predict(test_dataset)\n",
    "    pred_probs = torch.softmax(torch.tensor(predictions.predictions), dim=1).numpy()\n",
    "    pred_labels = np.argmax(predictions.predictions, axis=1)\n",
    "    \n",
    "    del model, trainer\n",
    "    torch.cuda.empty_cache() if torch.cuda.is_available() else None\n",
    "    \n",
    "    return pred_labels, pred_probs"
   ]
  },
  {
   "cell_type": "code",
   "execution_count": null,
   "metadata": {},
   "outputs": [],
   "source": [
    "print(\"BINARY CYBERBULLYING CLASSIFICATION:\")\n",
    "print(\"=\" * 50)\n",
    "\n",
    "train_texts = text_data[train_idx]\n",
    "test_texts = text_data[test_idx]\n",
    "train_labels = target[train_idx].values\n",
    "test_labels = target[test_idx].values\n",
    "\n",
    "pred, pred_probs = train_transformer_model(\n",
    "    'roberta-base',\n",
    "    RobertaTokenizer,\n",
    "    RobertaForSequenceClassification,\n",
    "    train_texts,\n",
    "    train_labels,\n",
    "    test_texts,\n",
    "    test_labels,\n",
    "    num_labels=2,\n",
    "    task_name='binary_classification'\n",
    ")\n",
    "\n",
    "metrics = save_metrics(\n",
    "    test_labels, pred, pred_probs, \n",
    "    ['Non-CB', 'CB'], \n",
    "    'binary_classification'\n",
    ")\n",
    "\n",
    "print(f\"RoBERTa: Acc={metrics['accuracy']:.3f}, Balanced Acc={metrics['balanced_accuracy']:.3f}, F1={metrics['f1_weighted']:.3f}, AUROC={metrics['auroc']:.3f}\")\n",
    "print(classification_report(test_labels, pred, target_names=['Non-CB', 'CB']))"
   ]
  },
  {
   "cell_type": "code",
   "execution_count": null,
   "metadata": {},
   "outputs": [],
   "source": [
    "print(\"\\nSEVERITY CLASSIFICATION (CYBERBULLYING COMMENTS ONLY):\")\n",
    "print(\"=\" * 60)\n",
    "\n",
    "cb_mask = target == 1\n",
    "severity_names = ['mild', 'moderate', 'severe']\n",
    "\n",
    "train_texts_sev = text_data[train_idx & cb_mask]\n",
    "test_texts_sev = text_data[test_idx & cb_mask]\n",
    "train_labels_sev = severity_labels[train_idx & cb_mask] - 1  # Convert 1,2,3 to 0,1,2\n",
    "test_labels_sev = severity_labels[test_idx & cb_mask] - 1    # Convert 1,2,3 to 0,1,2\n",
    "\n",
    "# Filter out any remaining 'none' labels (originally 0, now -1)\n",
    "valid_train_mask = train_labels_sev >= 0\n",
    "valid_test_mask = test_labels_sev >= 0\n",
    "\n",
    "train_texts_sev = train_texts_sev[valid_train_mask]\n",
    "test_texts_sev = test_texts_sev[valid_test_mask]\n",
    "train_labels_sev = train_labels_sev[valid_train_mask]\n",
    "test_labels_sev = test_labels_sev[valid_test_mask]\n",
    "\n",
    "if len(train_labels_sev) > 0 and len(test_labels_sev) > 0:\n",
    "    pred_s, pred_probs_s = train_transformer_model(\n",
    "        'roberta-base',\n",
    "        RobertaTokenizer,\n",
    "        RobertaForSequenceClassification,\n",
    "        train_texts_sev,\n",
    "        train_labels_sev,\n",
    "        test_texts_sev,\n",
    "        test_labels_sev,\n",
    "        num_labels=3,\n",
    "        task_name='severity_classification'\n",
    "    )\n",
    "    \n",
    "    metrics_s = save_metrics(\n",
    "        test_labels_sev, pred_s, pred_probs_s,\n",
    "        severity_names,\n",
    "        'severity_classification'\n",
    "    )\n",
    "    \n",
    "    print(f\"RoBERTa: Acc={metrics_s['accuracy']:.3f}, Balanced Acc={metrics_s['balanced_accuracy']:.3f}, F1={metrics_s['f1_weighted']:.3f}\")\n",
    "    if metrics_s['auroc_weighted']:\n",
    "        print(f\"AUROC Weighted={metrics_s['auroc_weighted']:.3f}\")\n",
    "    print(classification_report(test_labels_sev, pred_s, target_names=severity_names, zero_division=0))\n",
    "else:\n",
    "    print(\"RoBERTa: No data available\")"
   ]
  },
  {
   "cell_type": "code",
   "execution_count": null,
   "metadata": {},
   "outputs": [],
   "source": [
    "print(\"\\nROLE CLASSIFICATION (ALL COMMENTS):\")\n",
    "print(\"=\" * 40)\n",
    "\n",
    "role_names = ['bully', 'bully_assistant', 'aggressive_victim', 'aggressive_defender',\n",
    "              'passive_bystander', 'non_aggressive_victim', 'non_aggressive_defender']\n",
    "\n",
    "train_texts_role = text_data[train_idx]\n",
    "test_texts_role = text_data[test_idx]\n",
    "train_labels_role = role_labels[train_idx]\n",
    "test_labels_role = role_labels[test_idx]\n",
    "\n",
    "pred_r, pred_probs_r = train_transformer_model(\n",
    "    'roberta-base',\n",
    "    RobertaTokenizer,\n",
    "    RobertaForSequenceClassification,\n",
    "    train_texts_role,\n",
    "    train_labels_role,\n",
    "    test_texts_role,\n",
    "    test_labels_role,\n",
    "    num_labels=7,\n",
    "    task_name='role_classification'\n",
    ")\n",
    "\n",
    "metrics_r = save_metrics(\n",
    "    test_labels_role, pred_r, pred_probs_r,\n",
    "    role_names,\n",
    "    'role_classification'\n",
    ")\n",
    "\n",
    "print(f\"RoBERTa: Acc={metrics_r['accuracy']:.3f}, Balanced Acc={metrics_r['balanced_accuracy']:.3f}, F1={metrics_r['f1_weighted']:.3f}\")\n",
    "if metrics_r['auroc_weighted']:\n",
    "    print(f\"AUROC Weighted={metrics_r['auroc_weighted']:.3f}\")\n",
    "print(classification_report(test_labels_role, pred_r, target_names=role_names, zero_division=0))"
   ]
  },
  {
   "cell_type": "code",
   "execution_count": 13,
   "metadata": {},
   "outputs": [],
   "source": [
    "class MultiLabelTextDataset(Dataset):\n",
    "    def __init__(self, texts, labels, tokenizer, max_length=512):\n",
    "        self.texts = texts\n",
    "        self.labels = labels\n",
    "        self.tokenizer = tokenizer\n",
    "        self.max_length = max_length\n",
    "    \n",
    "    def __len__(self):\n",
    "        return len(self.texts)\n",
    "    \n",
    "    def __getitem__(self, idx):\n",
    "        text = str(self.texts.iloc[idx]) if hasattr(self.texts, 'iloc') else str(self.texts[idx])\n",
    "        text = text.strip() if text and text != 'nan' else \"\"\n",
    "        \n",
    "        encoding = self.tokenizer(\n",
    "            text,\n",
    "            truncation=True,\n",
    "            padding='max_length',\n",
    "            max_length=self.max_length,\n",
    "            return_tensors='pt'\n",
    "        )\n",
    "        \n",
    "        return {\n",
    "            'input_ids': encoding['input_ids'].flatten(),\n",
    "            'attention_mask': encoding['attention_mask'].flatten(),\n",
    "            'labels': torch.tensor(self.labels[idx], dtype=torch.float)\n",
    "        }\n",
    "\n",
    "class MultiLabelTransformer(nn.Module):\n",
    "    def __init__(self, model_name, num_labels, model_class):\n",
    "        super().__init__()\n",
    "        self.transformer = model_class.from_pretrained(\n",
    "            model_name, \n",
    "            num_labels=num_labels,\n",
    "            ignore_mismatched_sizes=True,\n",
    "            problem_type=\"multi_label_classification\"\n",
    "        )\n",
    "        \n",
    "        for name, param in self.transformer.named_parameters():\n",
    "            if 'classifier' not in name and 'pooler' not in name:\n",
    "                param.requires_grad = False\n",
    "        \n",
    "        self.sigmoid = nn.Sigmoid()\n",
    "    \n",
    "    def forward(self, input_ids, attention_mask, labels=None):\n",
    "        outputs = self.transformer(input_ids=input_ids, attention_mask=attention_mask)\n",
    "        logits = outputs.logits\n",
    "        probabilities = self.sigmoid(logits)\n",
    "        \n",
    "        if labels is not None:\n",
    "            loss_fct = nn.BCEWithLogitsLoss()\n",
    "            loss = loss_fct(logits, labels.float())\n",
    "            return {'loss': loss, 'logits': logits}\n",
    "        \n",
    "        return {'logits': logits}\n",
    "\n",
    "def train_multilabel_transformer(model_name, tokenizer_class, model_class, train_texts, train_labels, test_texts, test_labels, num_labels):\n",
    "    tokenizer = tokenizer_class.from_pretrained(model_name)\n",
    "    model = MultiLabelTransformer(model_name, num_labels, model_class).to(device)\n",
    "    \n",
    "    train_dataset = MultiLabelTextDataset(train_texts, train_labels, tokenizer)\n",
    "    test_dataset = MultiLabelTextDataset(test_texts, test_labels, tokenizer)\n",
    "    \n",
    "    training_args = TrainingArguments(\n",
    "        output_dir='./results_temp',\n",
    "        num_train_epochs=20,\n",
    "        per_device_train_batch_size=8,\n",
    "        per_device_eval_batch_size=8,\n",
    "        warmup_steps=500,\n",
    "        weight_decay=0.01,\n",
    "        learning_rate=5e-4,\n",
    "        logging_dir='./logs',\n",
    "        logging_steps=500,\n",
    "        eval_strategy=\"epoch\",\n",
    "        save_strategy=\"epoch\",\n",
    "        load_best_model_at_end=True,\n",
    "        metric_for_best_model=\"eval_loss\",\n",
    "        greater_is_better=False,\n",
    "        report_to=None,\n",
    "        save_total_limit=1,\n",
    "    )\n",
    "    \n",
    "    trainer = Trainer(\n",
    "        model=model,\n",
    "        args=training_args,\n",
    "        train_dataset=train_dataset,\n",
    "        eval_dataset=test_dataset,\n",
    "    )\n",
    "    \n",
    "    print(\"Training multi-label model...\")\n",
    "    trainer.train()\n",
    "    \n",
    "    predictions = trainer.predict(test_dataset)\n",
    "    pred_probs = torch.sigmoid(torch.tensor(predictions.predictions))\n",
    "    pred_labels = (pred_probs > 0.5).numpy().astype(int)\n",
    "    \n",
    "    del model, trainer\n",
    "    torch.cuda.empty_cache() if torch.cuda.is_available() else None\n",
    "    \n",
    "    return pred_labels, pred_probs.numpy()\n",
    "\n",
    "def save_multilabel_metrics(y_true, y_pred, y_proba, topic_names, task_name, model_name='roberta'):\n",
    "    timestamp = datetime.now().strftime('%Y%m%d_%H%M%S')\n",
    "    \n",
    "    metrics = {}\n",
    "    \n",
    "    topic_metrics = []\n",
    "    balanced_accuracies = []\n",
    "    \n",
    "    for i, topic_name in enumerate(topic_names):\n",
    "        p, r, f1, _ = precision_recall_fscore_support(\n",
    "            y_true[:, i], y_pred[:, i], average='binary', zero_division=0\n",
    "        )\n",
    "        support = y_true[:, i].sum()\n",
    "        \n",
    "        balanced_acc = balanced_accuracy_score(y_true[:, i], y_pred[:, i])\n",
    "        balanced_accuracies.append(balanced_acc)\n",
    "        \n",
    "        try:\n",
    "            auroc = roc_auc_score(y_true[:, i], y_proba[:, i])\n",
    "        except:\n",
    "            auroc = None\n",
    "        \n",
    "        cm = confusion_matrix(y_true[:, i], y_pred[:, i])\n",
    "        \n",
    "        plt.figure(figsize=(6, 5))\n",
    "        sns.heatmap(cm, annot=True, fmt='d', cmap='Blues', \n",
    "                    xticklabels=['No', 'Yes'], yticklabels=['No', 'Yes'])\n",
    "        plt.title(f'{model_name.upper()} - {topic_name} Topic - Confusion Matrix')\n",
    "        plt.ylabel('True Label')\n",
    "        plt.xlabel('Predicted Label')\n",
    "        plt.tight_layout()\n",
    "        plt.savefig(f'{results_dir}/{task_name}_{topic_name}_confusion_matrix_{timestamp}_fold_{fold_num}.png', \n",
    "                   dpi=300, bbox_inches='tight')\n",
    "        plt.close()\n",
    "        \n",
    "        np.save(f'{results_dir}/{task_name}_{topic_name}_confusion_matrix_{timestamp}_fold_{fold_num}.npy', cm)\n",
    "            \n",
    "        topic_metrics.append({\n",
    "            'topic': topic_name,\n",
    "            'precision': p,\n",
    "            'recall': r,\n",
    "            'f1': f1,\n",
    "            'balanced_accuracy': balanced_acc,\n",
    "            'auroc': auroc,\n",
    "            'support': support\n",
    "        })\n",
    "    \n",
    "    subset_accuracy = np.mean(np.all(y_true == y_pred, axis=1))\n",
    "    \n",
    "    precisions = [m['precision'] for m in topic_metrics]\n",
    "    recalls = [m['recall'] for m in topic_metrics]\n",
    "    f1s = [m['f1'] for m in topic_metrics]\n",
    "    aurocs = [m['auroc'] for m in topic_metrics if m['auroc'] is not None]\n",
    "    \n",
    "    metrics['subset_accuracy'] = subset_accuracy\n",
    "    metrics['macro_precision'] = np.mean(precisions)\n",
    "    metrics['macro_recall'] = np.mean(recalls)\n",
    "    metrics['macro_f1'] = np.mean(f1s)\n",
    "    metrics['macro_balanced_accuracy'] = np.mean(balanced_accuracies)\n",
    "    if aurocs:\n",
    "        metrics['macro_auroc'] = np.mean(aurocs)\n",
    "    \n",
    "    metrics['per_topic_metrics'] = topic_metrics\n",
    "    \n",
    "    with open(f'{results_dir}/{task_name}_metrics_{timestamp}_fold_{fold_num}.json', 'w') as f:\n",
    "        json.dump(metrics, f, indent=2, default=str)\n",
    "    \n",
    "    print(f\"Saved multi-label metrics for {task_name} to {results_dir}\")\n",
    "    \n",
    "    return metrics"
   ]
  },
  {
   "cell_type": "code",
   "execution_count": 14,
   "metadata": {},
   "outputs": [
    {
     "name": "stdout",
     "output_type": "stream",
     "text": [
      "\n",
      "TOPIC CLASSIFICATION (CYBERBULLYING COMMENTS ONLY):\n",
      "============================================================\n"
     ]
    },
    {
     "name": "stderr",
     "output_type": "stream",
     "text": [
      "Some weights of RobertaForSequenceClassification were not initialized from the model checkpoint at roberta-base and are newly initialized: ['classifier.dense.bias', 'classifier.dense.weight', 'classifier.out_proj.bias', 'classifier.out_proj.weight']\n",
      "You should probably TRAIN this model on a down-stream task to be able to use it for predictions and inference.\n"
     ]
    },
    {
     "name": "stdout",
     "output_type": "stream",
     "text": [
      "Training multi-label model...\n"
     ]
    },
    {
     "data": {
      "application/vnd.jupyter.widget-view+json": {
       "model_id": "5e7006b92a6a49d4b55f368c7b704d40",
       "version_major": 2,
       "version_minor": 0
      },
      "text/plain": [
       "  0%|          | 0/11100 [00:00<?, ?it/s]"
      ]
     },
     "metadata": {},
     "output_type": "display_data"
    },
    {
     "name": "stdout",
     "output_type": "stream",
     "text": [
      "{'loss': 0.3128, 'grad_norm': 0.2806260287761688, 'learning_rate': 0.0005, 'epoch': 0.9}\n"
     ]
    },
    {
     "data": {
      "application/vnd.jupyter.widget-view+json": {
       "model_id": "55f5f56bda96451ea618d8543450e366",
       "version_major": 2,
       "version_minor": 0
      },
      "text/plain": [
       "  0%|          | 0/150 [00:00<?, ?it/s]"
      ]
     },
     "metadata": {},
     "output_type": "display_data"
    },
    {
     "name": "stdout",
     "output_type": "stream",
     "text": [
      "{'eval_loss': 0.2467968910932541, 'eval_runtime': 28.5129, 'eval_samples_per_second': 84.137, 'eval_steps_per_second': 5.261, 'epoch': 1.0}\n",
      "{'loss': 0.2367, 'grad_norm': 0.20464543998241425, 'learning_rate': 0.00047641509433962265, 'epoch': 1.8}\n"
     ]
    },
    {
     "data": {
      "application/vnd.jupyter.widget-view+json": {
       "model_id": "feb044e603994cf29cf66fefd511dbd6",
       "version_major": 2,
       "version_minor": 0
      },
      "text/plain": [
       "  0%|          | 0/150 [00:00<?, ?it/s]"
      ]
     },
     "metadata": {},
     "output_type": "display_data"
    },
    {
     "name": "stdout",
     "output_type": "stream",
     "text": [
      "{'eval_loss': 0.2291584461927414, 'eval_runtime': 28.4003, 'eval_samples_per_second': 84.471, 'eval_steps_per_second': 5.282, 'epoch': 2.0}\n",
      "{'loss': 0.2278, 'grad_norm': 0.3070812523365021, 'learning_rate': 0.0004528301886792453, 'epoch': 2.7}\n"
     ]
    },
    {
     "data": {
      "application/vnd.jupyter.widget-view+json": {
       "model_id": "ce03b771a9c24f0092e947eb4b2c9589",
       "version_major": 2,
       "version_minor": 0
      },
      "text/plain": [
       "  0%|          | 0/150 [00:00<?, ?it/s]"
      ]
     },
     "metadata": {},
     "output_type": "display_data"
    },
    {
     "name": "stdout",
     "output_type": "stream",
     "text": [
      "{'eval_loss': 0.21958403289318085, 'eval_runtime': 28.6388, 'eval_samples_per_second': 83.767, 'eval_steps_per_second': 5.238, 'epoch': 3.0}\n",
      "{'loss': 0.2195, 'grad_norm': 0.3156946897506714, 'learning_rate': 0.00042924528301886797, 'epoch': 3.6}\n"
     ]
    },
    {
     "data": {
      "application/vnd.jupyter.widget-view+json": {
       "model_id": "279994dc75b441638594eafcc110eed7",
       "version_major": 2,
       "version_minor": 0
      },
      "text/plain": [
       "  0%|          | 0/150 [00:00<?, ?it/s]"
      ]
     },
     "metadata": {},
     "output_type": "display_data"
    },
    {
     "name": "stdout",
     "output_type": "stream",
     "text": [
      "{'eval_loss': 0.21027718484401703, 'eval_runtime': 28.2884, 'eval_samples_per_second': 84.805, 'eval_steps_per_second': 5.303, 'epoch': 4.0}\n",
      "{'loss': 0.2166, 'grad_norm': 0.5019981265068054, 'learning_rate': 0.0004056603773584906, 'epoch': 4.5}\n"
     ]
    },
    {
     "data": {
      "application/vnd.jupyter.widget-view+json": {
       "model_id": "b71869392ec6495cb00fb5197dc2177f",
       "version_major": 2,
       "version_minor": 0
      },
      "text/plain": [
       "  0%|          | 0/150 [00:00<?, ?it/s]"
      ]
     },
     "metadata": {},
     "output_type": "display_data"
    },
    {
     "name": "stdout",
     "output_type": "stream",
     "text": [
      "{'eval_loss': 0.2022838145494461, 'eval_runtime': 28.553, 'eval_samples_per_second': 84.019, 'eval_steps_per_second': 5.253, 'epoch': 5.0}\n",
      "{'loss': 0.2099, 'grad_norm': 0.3687780797481537, 'learning_rate': 0.00038207547169811324, 'epoch': 5.41}\n"
     ]
    },
    {
     "data": {
      "application/vnd.jupyter.widget-view+json": {
       "model_id": "89baeb708d5a483cb786c65c8e4301af",
       "version_major": 2,
       "version_minor": 0
      },
      "text/plain": [
       "  0%|          | 0/150 [00:00<?, ?it/s]"
      ]
     },
     "metadata": {},
     "output_type": "display_data"
    },
    {
     "name": "stdout",
     "output_type": "stream",
     "text": [
      "{'eval_loss': 0.19931450486183167, 'eval_runtime': 28.5062, 'eval_samples_per_second': 84.157, 'eval_steps_per_second': 5.262, 'epoch': 6.0}\n",
      "{'loss': 0.2056, 'grad_norm': 0.3974687457084656, 'learning_rate': 0.0003584905660377358, 'epoch': 6.31}\n"
     ]
    },
    {
     "data": {
      "application/vnd.jupyter.widget-view+json": {
       "model_id": "1349f9ab866543afb294b61ea8da42e6",
       "version_major": 2,
       "version_minor": 0
      },
      "text/plain": [
       "  0%|          | 0/150 [00:00<?, ?it/s]"
      ]
     },
     "metadata": {},
     "output_type": "display_data"
    },
    {
     "name": "stdout",
     "output_type": "stream",
     "text": [
      "{'eval_loss': 0.1945003867149353, 'eval_runtime': 28.4257, 'eval_samples_per_second': 84.395, 'eval_steps_per_second': 5.277, 'epoch': 7.0}\n",
      "{'loss': 0.2055, 'grad_norm': 0.3424472510814667, 'learning_rate': 0.00033490566037735846, 'epoch': 7.21}\n"
     ]
    },
    {
     "data": {
      "application/vnd.jupyter.widget-view+json": {
       "model_id": "d7602ae30a8e4d29b2b6f51221c3ca7b",
       "version_major": 2,
       "version_minor": 0
      },
      "text/plain": [
       "  0%|          | 0/150 [00:00<?, ?it/s]"
      ]
     },
     "metadata": {},
     "output_type": "display_data"
    },
    {
     "name": "stdout",
     "output_type": "stream",
     "text": [
      "{'eval_loss': 0.19173549115657806, 'eval_runtime': 28.3264, 'eval_samples_per_second': 84.691, 'eval_steps_per_second': 5.295, 'epoch': 8.0}\n",
      "{'loss': 0.2023, 'grad_norm': 0.3521493077278137, 'learning_rate': 0.00031132075471698115, 'epoch': 8.11}\n"
     ]
    },
    {
     "data": {
      "application/vnd.jupyter.widget-view+json": {
       "model_id": "9b3c48eaacad4bb1b3a6da4c14130ed0",
       "version_major": 2,
       "version_minor": 0
      },
      "text/plain": [
       "  0%|          | 0/150 [00:00<?, ?it/s]"
      ]
     },
     "metadata": {},
     "output_type": "display_data"
    },
    {
     "name": "stdout",
     "output_type": "stream",
     "text": [
      "{'eval_loss': 0.19038289785385132, 'eval_runtime': 28.3036, 'eval_samples_per_second': 84.76, 'eval_steps_per_second': 5.3, 'epoch': 9.0}\n",
      "{'loss': 0.2011, 'grad_norm': 0.41174817085266113, 'learning_rate': 0.0002877358490566038, 'epoch': 9.01}\n",
      "{'loss': 0.1994, 'grad_norm': 0.46503838896751404, 'learning_rate': 0.0002641509433962264, 'epoch': 9.91}\n"
     ]
    },
    {
     "data": {
      "application/vnd.jupyter.widget-view+json": {
       "model_id": "32dc8d9f0cdc49cc8e4a56c1c5d5e870",
       "version_major": 2,
       "version_minor": 0
      },
      "text/plain": [
       "  0%|          | 0/150 [00:00<?, ?it/s]"
      ]
     },
     "metadata": {},
     "output_type": "display_data"
    },
    {
     "name": "stdout",
     "output_type": "stream",
     "text": [
      "{'eval_loss': 0.19291165471076965, 'eval_runtime': 28.5455, 'eval_samples_per_second': 84.041, 'eval_steps_per_second': 5.255, 'epoch': 10.0}\n",
      "{'loss': 0.2002, 'grad_norm': 0.35034558176994324, 'learning_rate': 0.00024056603773584906, 'epoch': 10.81}\n"
     ]
    },
    {
     "data": {
      "application/vnd.jupyter.widget-view+json": {
       "model_id": "846ba1465872431483b938ad26a8c77c",
       "version_major": 2,
       "version_minor": 0
      },
      "text/plain": [
       "  0%|          | 0/150 [00:00<?, ?it/s]"
      ]
     },
     "metadata": {},
     "output_type": "display_data"
    },
    {
     "name": "stdout",
     "output_type": "stream",
     "text": [
      "{'eval_loss': 0.19094610214233398, 'eval_runtime': 28.4986, 'eval_samples_per_second': 84.179, 'eval_steps_per_second': 5.263, 'epoch': 11.0}\n",
      "{'loss': 0.1978, 'grad_norm': 0.5116296410560608, 'learning_rate': 0.00021698113207547172, 'epoch': 11.71}\n"
     ]
    },
    {
     "data": {
      "application/vnd.jupyter.widget-view+json": {
       "model_id": "14e97f7078e34ec0aa2976e67b509c57",
       "version_major": 2,
       "version_minor": 0
      },
      "text/plain": [
       "  0%|          | 0/150 [00:00<?, ?it/s]"
      ]
     },
     "metadata": {},
     "output_type": "display_data"
    },
    {
     "name": "stdout",
     "output_type": "stream",
     "text": [
      "{'eval_loss': 0.18959462642669678, 'eval_runtime': 30.8535, 'eval_samples_per_second': 77.755, 'eval_steps_per_second': 4.862, 'epoch': 12.0}\n",
      "{'loss': 0.2002, 'grad_norm': 0.33327987790107727, 'learning_rate': 0.00019339622641509436, 'epoch': 12.61}\n"
     ]
    },
    {
     "data": {
      "application/vnd.jupyter.widget-view+json": {
       "model_id": "7def8512392447809c85aed73bf424fb",
       "version_major": 2,
       "version_minor": 0
      },
      "text/plain": [
       "  0%|          | 0/150 [00:00<?, ?it/s]"
      ]
     },
     "metadata": {},
     "output_type": "display_data"
    },
    {
     "name": "stdout",
     "output_type": "stream",
     "text": [
      "{'eval_loss': 0.18833553791046143, 'eval_runtime': 30.4169, 'eval_samples_per_second': 78.87, 'eval_steps_per_second': 4.931, 'epoch': 13.0}\n",
      "{'loss': 0.1942, 'grad_norm': 0.38559725880622864, 'learning_rate': 0.00016981132075471697, 'epoch': 13.51}\n"
     ]
    },
    {
     "data": {
      "application/vnd.jupyter.widget-view+json": {
       "model_id": "7f4b8dd93b1042278632dcc520fb9f11",
       "version_major": 2,
       "version_minor": 0
      },
      "text/plain": [
       "  0%|          | 0/150 [00:00<?, ?it/s]"
      ]
     },
     "metadata": {},
     "output_type": "display_data"
    },
    {
     "name": "stdout",
     "output_type": "stream",
     "text": [
      "{'eval_loss': 0.18678200244903564, 'eval_runtime': 30.4584, 'eval_samples_per_second': 78.763, 'eval_steps_per_second': 4.925, 'epoch': 14.0}\n",
      "{'loss': 0.1967, 'grad_norm': 0.29621902108192444, 'learning_rate': 0.00014622641509433963, 'epoch': 14.41}\n"
     ]
    },
    {
     "data": {
      "application/vnd.jupyter.widget-view+json": {
       "model_id": "661719a270604f16a32d0cdd2c34e2cd",
       "version_major": 2,
       "version_minor": 0
      },
      "text/plain": [
       "  0%|          | 0/150 [00:00<?, ?it/s]"
      ]
     },
     "metadata": {},
     "output_type": "display_data"
    },
    {
     "name": "stdout",
     "output_type": "stream",
     "text": [
      "{'eval_loss': 0.18613189458847046, 'eval_runtime': 30.4223, 'eval_samples_per_second': 78.857, 'eval_steps_per_second': 4.931, 'epoch': 15.0}\n",
      "{'loss': 0.195, 'grad_norm': 0.3975958526134491, 'learning_rate': 0.00012264150943396227, 'epoch': 15.32}\n"
     ]
    },
    {
     "data": {
      "application/vnd.jupyter.widget-view+json": {
       "model_id": "33476ff24b3f4a13bbdf3ce3b00e10c9",
       "version_major": 2,
       "version_minor": 0
      },
      "text/plain": [
       "  0%|          | 0/150 [00:00<?, ?it/s]"
      ]
     },
     "metadata": {},
     "output_type": "display_data"
    },
    {
     "name": "stdout",
     "output_type": "stream",
     "text": [
      "{'eval_loss': 0.18669281899929047, 'eval_runtime': 30.2952, 'eval_samples_per_second': 79.187, 'eval_steps_per_second': 4.951, 'epoch': 16.0}\n",
      "{'loss': 0.1955, 'grad_norm': 0.45754286646842957, 'learning_rate': 9.905660377358492e-05, 'epoch': 16.22}\n"
     ]
    },
    {
     "data": {
      "application/vnd.jupyter.widget-view+json": {
       "model_id": "6103c9f1dc90449f8a119c315b967fa6",
       "version_major": 2,
       "version_minor": 0
      },
      "text/plain": [
       "  0%|          | 0/150 [00:00<?, ?it/s]"
      ]
     },
     "metadata": {},
     "output_type": "display_data"
    },
    {
     "name": "stdout",
     "output_type": "stream",
     "text": [
      "{'eval_loss': 0.18909522891044617, 'eval_runtime': 30.8465, 'eval_samples_per_second': 77.772, 'eval_steps_per_second': 4.863, 'epoch': 17.0}\n",
      "{'loss': 0.1941, 'grad_norm': 0.3573600649833679, 'learning_rate': 7.547169811320755e-05, 'epoch': 17.12}\n"
     ]
    },
    {
     "data": {
      "application/vnd.jupyter.widget-view+json": {
       "model_id": "b75b1efc51fe4f3b8ce769c6072f4a40",
       "version_major": 2,
       "version_minor": 0
      },
      "text/plain": [
       "  0%|          | 0/150 [00:00<?, ?it/s]"
      ]
     },
     "metadata": {},
     "output_type": "display_data"
    },
    {
     "name": "stdout",
     "output_type": "stream",
     "text": [
      "{'eval_loss': 0.1850784569978714, 'eval_runtime': 30.0582, 'eval_samples_per_second': 79.812, 'eval_steps_per_second': 4.99, 'epoch': 18.0}\n",
      "{'loss': 0.1941, 'grad_norm': 0.3760596811771393, 'learning_rate': 5.1886792452830194e-05, 'epoch': 18.02}\n",
      "{'loss': 0.1928, 'grad_norm': 0.5240703821182251, 'learning_rate': 2.830188679245283e-05, 'epoch': 18.92}\n"
     ]
    },
    {
     "data": {
      "application/vnd.jupyter.widget-view+json": {
       "model_id": "6c51d5839f204965af444ce879629e94",
       "version_major": 2,
       "version_minor": 0
      },
      "text/plain": [
       "  0%|          | 0/150 [00:00<?, ?it/s]"
      ]
     },
     "metadata": {},
     "output_type": "display_data"
    },
    {
     "name": "stdout",
     "output_type": "stream",
     "text": [
      "{'eval_loss': 0.18545693159103394, 'eval_runtime': 30.5869, 'eval_samples_per_second': 78.432, 'eval_steps_per_second': 4.904, 'epoch': 19.0}\n",
      "{'loss': 0.1926, 'grad_norm': 0.3731459677219391, 'learning_rate': 4.716981132075472e-06, 'epoch': 19.82}\n"
     ]
    },
    {
     "data": {
      "application/vnd.jupyter.widget-view+json": {
       "model_id": "8e69a1cce16442afaf1d74a632f34c13",
       "version_major": 2,
       "version_minor": 0
      },
      "text/plain": [
       "  0%|          | 0/150 [00:00<?, ?it/s]"
      ]
     },
     "metadata": {},
     "output_type": "display_data"
    },
    {
     "name": "stdout",
     "output_type": "stream",
     "text": [
      "{'eval_loss': 0.18524326384067535, 'eval_runtime': 20.5195, 'eval_samples_per_second': 116.913, 'eval_steps_per_second': 7.31, 'epoch': 20.0}\n"
     ]
    },
    {
     "name": "stderr",
     "output_type": "stream",
     "text": [
      "Could not locate the best model at ./results_temp/checkpoint-9990/pytorch_model.bin, if you are running a distributed training on multiple nodes, you should activate `--save_on_each_node`.\n"
     ]
    },
    {
     "name": "stdout",
     "output_type": "stream",
     "text": [
      "{'train_runtime': 3362.9423, 'train_samples_per_second': 52.734, 'train_steps_per_second': 3.301, 'train_loss': 0.20853446754249366, 'epoch': 20.0}\n"
     ]
    },
    {
     "ename": "FileNotFoundError",
     "evalue": "[Errno 2] No such file or directory: './results_temp/checkpoint-9990'",
     "output_type": "error",
     "traceback": [
      "\u001b[0;31m---------------------------------------------------------------------------\u001b[0m",
      "\u001b[0;31mFileNotFoundError\u001b[0m                         Traceback (most recent call last)",
      "Cell \u001b[0;32mIn[14], line 14\u001b[0m\n\u001b[1;32m     11\u001b[0m test_labels_topic \u001b[38;5;241m=\u001b[39m topic_labels[test_idx \u001b[38;5;241m&\u001b[39m cb_mask]\u001b[38;5;241m.\u001b[39mvalues\n\u001b[1;32m     13\u001b[0m \u001b[38;5;28;01mif\u001b[39;00m \u001b[38;5;28mlen\u001b[39m(train_labels_topic) \u001b[38;5;241m>\u001b[39m \u001b[38;5;241m0\u001b[39m \u001b[38;5;129;01mand\u001b[39;00m \u001b[38;5;28mlen\u001b[39m(test_labels_topic) \u001b[38;5;241m>\u001b[39m \u001b[38;5;241m0\u001b[39m:\n\u001b[0;32m---> 14\u001b[0m     pred_t, pred_probs_t \u001b[38;5;241m=\u001b[39m \u001b[43mtrain_multilabel_transformer\u001b[49m\u001b[43m(\u001b[49m\n\u001b[1;32m     15\u001b[0m \u001b[43m        \u001b[49m\u001b[38;5;124;43m'\u001b[39;49m\u001b[38;5;124;43mroberta-base\u001b[39;49m\u001b[38;5;124;43m'\u001b[39;49m\u001b[43m,\u001b[49m\n\u001b[1;32m     16\u001b[0m \u001b[43m        \u001b[49m\u001b[43mRobertaTokenizer\u001b[49m\u001b[43m,\u001b[49m\n\u001b[1;32m     17\u001b[0m \u001b[43m        \u001b[49m\u001b[43mRobertaForSequenceClassification\u001b[49m\u001b[43m,\u001b[49m\n\u001b[1;32m     18\u001b[0m \u001b[43m        \u001b[49m\u001b[43mtrain_texts_topic\u001b[49m\u001b[43m,\u001b[49m\n\u001b[1;32m     19\u001b[0m \u001b[43m        \u001b[49m\u001b[43mtrain_labels_topic\u001b[49m\u001b[43m,\u001b[49m\n\u001b[1;32m     20\u001b[0m \u001b[43m        \u001b[49m\u001b[43mtest_texts_topic\u001b[49m\u001b[43m,\u001b[49m\n\u001b[1;32m     21\u001b[0m \u001b[43m        \u001b[49m\u001b[43mtest_labels_topic\u001b[49m\u001b[43m,\u001b[49m\n\u001b[1;32m     22\u001b[0m \u001b[43m        \u001b[49m\u001b[43mnum_labels\u001b[49m\u001b[38;5;241;43m=\u001b[39;49m\u001b[38;5;241;43m10\u001b[39;49m\n\u001b[1;32m     23\u001b[0m \u001b[43m    \u001b[49m\u001b[43m)\u001b[49m\n\u001b[1;32m     25\u001b[0m     metrics_t \u001b[38;5;241m=\u001b[39m save_multilabel_metrics(\n\u001b[1;32m     26\u001b[0m         test_labels_topic, pred_t, pred_probs_t,\n\u001b[1;32m     27\u001b[0m         topic_names,\n\u001b[1;32m     28\u001b[0m         \u001b[38;5;124m'\u001b[39m\u001b[38;5;124mtopic_classification\u001b[39m\u001b[38;5;124m'\u001b[39m,\n\u001b[1;32m     29\u001b[0m         \u001b[38;5;124m'\u001b[39m\u001b[38;5;124mroberta\u001b[39m\u001b[38;5;124m'\u001b[39m\n\u001b[1;32m     30\u001b[0m     )\n\u001b[1;32m     32\u001b[0m     \u001b[38;5;28mprint\u001b[39m(\u001b[38;5;124mf\u001b[39m\u001b[38;5;124m\"\u001b[39m\u001b[38;5;124mRoBERTa: Subset Acc=\u001b[39m\u001b[38;5;132;01m{\u001b[39;00mmetrics_t[\u001b[38;5;124m'\u001b[39m\u001b[38;5;124msubset_accuracy\u001b[39m\u001b[38;5;124m'\u001b[39m]\u001b[38;5;132;01m:\u001b[39;00m\u001b[38;5;124m.3f\u001b[39m\u001b[38;5;132;01m}\u001b[39;00m\u001b[38;5;124m, Macro F1=\u001b[39m\u001b[38;5;132;01m{\u001b[39;00mmetrics_t[\u001b[38;5;124m'\u001b[39m\u001b[38;5;124mmacro_f1\u001b[39m\u001b[38;5;124m'\u001b[39m]\u001b[38;5;132;01m:\u001b[39;00m\u001b[38;5;124m.3f\u001b[39m\u001b[38;5;132;01m}\u001b[39;00m\u001b[38;5;124m, Macro Balanced Acc=\u001b[39m\u001b[38;5;132;01m{\u001b[39;00mmetrics_t[\u001b[38;5;124m'\u001b[39m\u001b[38;5;124mmacro_balanced_accuracy\u001b[39m\u001b[38;5;124m'\u001b[39m]\u001b[38;5;132;01m:\u001b[39;00m\u001b[38;5;124m.3f\u001b[39m\u001b[38;5;132;01m}\u001b[39;00m\u001b[38;5;124m\"\u001b[39m)\n",
      "Cell \u001b[0;32mIn[13], line 91\u001b[0m, in \u001b[0;36mtrain_multilabel_transformer\u001b[0;34m(model_name, tokenizer_class, model_class, train_texts, train_labels, test_texts, test_labels, num_labels)\u001b[0m\n\u001b[1;32m     83\u001b[0m trainer \u001b[38;5;241m=\u001b[39m Trainer(\n\u001b[1;32m     84\u001b[0m     model\u001b[38;5;241m=\u001b[39mmodel,\n\u001b[1;32m     85\u001b[0m     args\u001b[38;5;241m=\u001b[39mtraining_args,\n\u001b[1;32m     86\u001b[0m     train_dataset\u001b[38;5;241m=\u001b[39mtrain_dataset,\n\u001b[1;32m     87\u001b[0m     eval_dataset\u001b[38;5;241m=\u001b[39mtest_dataset,\n\u001b[1;32m     88\u001b[0m )\n\u001b[1;32m     90\u001b[0m \u001b[38;5;28mprint\u001b[39m(\u001b[38;5;124m\"\u001b[39m\u001b[38;5;124mTraining multi-label model...\u001b[39m\u001b[38;5;124m\"\u001b[39m)\n\u001b[0;32m---> 91\u001b[0m \u001b[43mtrainer\u001b[49m\u001b[38;5;241;43m.\u001b[39;49m\u001b[43mtrain\u001b[49m\u001b[43m(\u001b[49m\u001b[43m)\u001b[49m\n\u001b[1;32m     93\u001b[0m predictions \u001b[38;5;241m=\u001b[39m trainer\u001b[38;5;241m.\u001b[39mpredict(test_dataset)\n\u001b[1;32m     94\u001b[0m pred_probs \u001b[38;5;241m=\u001b[39m torch\u001b[38;5;241m.\u001b[39msigmoid(torch\u001b[38;5;241m.\u001b[39mtensor(predictions\u001b[38;5;241m.\u001b[39mpredictions))\n",
      "File \u001b[0;32m~/miniconda3/envs/privatefl2/lib/python3.8/site-packages/transformers/trainer.py:2123\u001b[0m, in \u001b[0;36mTrainer.train\u001b[0;34m(self, resume_from_checkpoint, trial, ignore_keys_for_eval, **kwargs)\u001b[0m\n\u001b[1;32m   2121\u001b[0m         hf_hub_utils\u001b[38;5;241m.\u001b[39menable_progress_bars()\n\u001b[1;32m   2122\u001b[0m \u001b[38;5;28;01melse\u001b[39;00m:\n\u001b[0;32m-> 2123\u001b[0m     \u001b[38;5;28;01mreturn\u001b[39;00m \u001b[43minner_training_loop\u001b[49m\u001b[43m(\u001b[49m\n\u001b[1;32m   2124\u001b[0m \u001b[43m        \u001b[49m\u001b[43margs\u001b[49m\u001b[38;5;241;43m=\u001b[39;49m\u001b[43margs\u001b[49m\u001b[43m,\u001b[49m\n\u001b[1;32m   2125\u001b[0m \u001b[43m        \u001b[49m\u001b[43mresume_from_checkpoint\u001b[49m\u001b[38;5;241;43m=\u001b[39;49m\u001b[43mresume_from_checkpoint\u001b[49m\u001b[43m,\u001b[49m\n\u001b[1;32m   2126\u001b[0m \u001b[43m        \u001b[49m\u001b[43mtrial\u001b[49m\u001b[38;5;241;43m=\u001b[39;49m\u001b[43mtrial\u001b[49m\u001b[43m,\u001b[49m\n\u001b[1;32m   2127\u001b[0m \u001b[43m        \u001b[49m\u001b[43mignore_keys_for_eval\u001b[49m\u001b[38;5;241;43m=\u001b[39;49m\u001b[43mignore_keys_for_eval\u001b[49m\u001b[43m,\u001b[49m\n\u001b[1;32m   2128\u001b[0m \u001b[43m    \u001b[49m\u001b[43m)\u001b[49m\n",
      "File \u001b[0;32m~/miniconda3/envs/privatefl2/lib/python3.8/site-packages/transformers/trainer.py:2631\u001b[0m, in \u001b[0;36mTrainer._inner_training_loop\u001b[0;34m(self, batch_size, args, resume_from_checkpoint, trial, ignore_keys_for_eval)\u001b[0m\n\u001b[1;32m   2629\u001b[0m \u001b[38;5;28;01mif\u001b[39;00m \u001b[38;5;28mself\u001b[39m\u001b[38;5;241m.\u001b[39margs\u001b[38;5;241m.\u001b[39mshould_save \u001b[38;5;129;01mand\u001b[39;00m \u001b[38;5;28mself\u001b[39m\u001b[38;5;241m.\u001b[39mstate\u001b[38;5;241m.\u001b[39mbest_model_checkpoint \u001b[38;5;129;01mis\u001b[39;00m \u001b[38;5;129;01mnot\u001b[39;00m \u001b[38;5;28;01mNone\u001b[39;00m \u001b[38;5;129;01mand\u001b[39;00m \u001b[38;5;28mself\u001b[39m\u001b[38;5;241m.\u001b[39margs\u001b[38;5;241m.\u001b[39msave_total_limit \u001b[38;5;241m==\u001b[39m \u001b[38;5;241m1\u001b[39m:\n\u001b[1;32m   2630\u001b[0m     \u001b[38;5;28;01mfor\u001b[39;00m checkpoint \u001b[38;5;129;01min\u001b[39;00m checkpoints_sorted:\n\u001b[0;32m-> 2631\u001b[0m         \u001b[38;5;28;01mif\u001b[39;00m \u001b[38;5;129;01mnot\u001b[39;00m \u001b[43mos\u001b[49m\u001b[38;5;241;43m.\u001b[39;49m\u001b[43mpath\u001b[49m\u001b[38;5;241;43m.\u001b[39;49m\u001b[43msamefile\u001b[49m\u001b[43m(\u001b[49m\u001b[43mcheckpoint\u001b[49m\u001b[43m,\u001b[49m\u001b[43m \u001b[49m\u001b[38;5;28;43mself\u001b[39;49m\u001b[38;5;241;43m.\u001b[39;49m\u001b[43mstate\u001b[49m\u001b[38;5;241;43m.\u001b[39;49m\u001b[43mbest_model_checkpoint\u001b[49m\u001b[43m)\u001b[49m:\n\u001b[1;32m   2632\u001b[0m             logger\u001b[38;5;241m.\u001b[39minfo(\u001b[38;5;124mf\u001b[39m\u001b[38;5;124m\"\u001b[39m\u001b[38;5;124mDeleting older checkpoint [\u001b[39m\u001b[38;5;132;01m{\u001b[39;00mcheckpoint\u001b[38;5;132;01m}\u001b[39;00m\u001b[38;5;124m] due to args.save_total_limit\u001b[39m\u001b[38;5;124m\"\u001b[39m)\n\u001b[1;32m   2633\u001b[0m             shutil\u001b[38;5;241m.\u001b[39mrmtree(checkpoint, ignore_errors\u001b[38;5;241m=\u001b[39m\u001b[38;5;28;01mTrue\u001b[39;00m)\n",
      "File \u001b[0;32m~/miniconda3/envs/privatefl2/lib/python3.8/genericpath.py:101\u001b[0m, in \u001b[0;36msamefile\u001b[0;34m(f1, f2)\u001b[0m\n\u001b[1;32m     95\u001b[0m \u001b[38;5;250m\u001b[39m\u001b[38;5;124;03m\"\"\"Test whether two pathnames reference the same actual file or directory\u001b[39;00m\n\u001b[1;32m     96\u001b[0m \n\u001b[1;32m     97\u001b[0m \u001b[38;5;124;03mThis is determined by the device number and i-node number and\u001b[39;00m\n\u001b[1;32m     98\u001b[0m \u001b[38;5;124;03mraises an exception if an os.stat() call on either pathname fails.\u001b[39;00m\n\u001b[1;32m     99\u001b[0m \u001b[38;5;124;03m\"\"\"\u001b[39;00m\n\u001b[1;32m    100\u001b[0m s1 \u001b[38;5;241m=\u001b[39m os\u001b[38;5;241m.\u001b[39mstat(f1)\n\u001b[0;32m--> 101\u001b[0m s2 \u001b[38;5;241m=\u001b[39m \u001b[43mos\u001b[49m\u001b[38;5;241;43m.\u001b[39;49m\u001b[43mstat\u001b[49m\u001b[43m(\u001b[49m\u001b[43mf2\u001b[49m\u001b[43m)\u001b[49m\n\u001b[1;32m    102\u001b[0m \u001b[38;5;28;01mreturn\u001b[39;00m samestat(s1, s2)\n",
      "\u001b[0;31mFileNotFoundError\u001b[0m: [Errno 2] No such file or directory: './results_temp/checkpoint-9990'"
     ]
    }
   ],
   "source": [
    "print(\"\\nTOPIC CLASSIFICATION (CYBERBULLYING COMMENTS ONLY):\")\n",
    "print(\"=\" * 60)\n",
    "\n",
    "cb_mask = target == 1\n",
    "topic_names = ['disability', 'gender', 'intellectual', 'other', 'physical', \n",
    "               'political', 'race', 'religious', 'sexual', 'social_status']\n",
    "\n",
    "train_texts_topic = text_data[train_idx & cb_mask]\n",
    "test_texts_topic = text_data[test_idx & cb_mask]\n",
    "train_labels_topic = topic_labels[train_idx & cb_mask].values\n",
    "test_labels_topic = topic_labels[test_idx & cb_mask].values\n",
    "\n",
    "if len(train_labels_topic) > 0 and len(test_labels_topic) > 0:\n",
    "    pred_t, pred_probs_t = train_multilabel_transformer(\n",
    "        'roberta-base',\n",
    "        RobertaTokenizer,\n",
    "        RobertaForSequenceClassification,\n",
    "        train_texts_topic,\n",
    "        train_labels_topic,\n",
    "        test_texts_topic,\n",
    "        test_labels_topic,\n",
    "        num_labels=10\n",
    "    )\n",
    "    \n",
    "    metrics_t = save_multilabel_metrics(\n",
    "        test_labels_topic, pred_t, pred_probs_t,\n",
    "        topic_names,\n",
    "        'topic_classification',\n",
    "        'roberta'\n",
    "    )\n",
    "    \n",
    "    print(f\"RoBERTa: Subset Acc={metrics_t['subset_accuracy']:.3f}, Macro F1={metrics_t['macro_f1']:.3f}, Macro Balanced Acc={metrics_t['macro_balanced_accuracy']:.3f}\")\n",
    "    if 'macro_auroc' in metrics_t:\n",
    "        print(f\"Macro AUROC={metrics_t['macro_auroc']:.3f}\")\n",
    "    \n",
    "    print(\"\\nPer-topic results:\")\n",
    "    for metric in metrics_t['per_topic_metrics']:\n",
    "        print(f\"{metric['topic']}: P={metric['precision']:.3f}, R={metric['recall']:.3f}, F1={metric['f1']:.3f}, Balanced Acc={metric['balanced_accuracy']:.3f}, Support={metric['support']}\")\n",
    "else:\n",
    "    print(\"RoBERTa: No data available\")"
   ]
  }
 ],
 "metadata": {
  "kernelspec": {
   "display_name": "Python 3",
   "language": "python",
   "name": "python3"
  },
  "language_info": {
   "codemirror_mode": {
    "name": "ipython",
    "version": 3
   },
   "file_extension": ".py",
   "mimetype": "text/x-python",
   "name": "python",
   "nbconvert_exporter": "python",
   "pygments_lexer": "ipython3",
   "version": "3.10.12"
  }
 },
 "nbformat": 4,
 "nbformat_minor": 4
}
